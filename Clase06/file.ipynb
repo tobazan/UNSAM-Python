{
 "metadata": {
  "language_info": {
   "codemirror_mode": {
    "name": "ipython",
    "version": 3
   },
   "file_extension": ".py",
   "mimetype": "text/x-python",
   "name": "python",
   "nbconvert_exporter": "python",
   "pygments_lexer": "ipython3",
   "version": "3.8.7"
  },
  "orig_nbformat": 2,
  "kernelspec": {
   "name": "python387jvsc74a57bd01cb3c4095699f2a8cd6a12889e7edb42215ac8b2afd459e3e81282dc1470f9b2",
   "display_name": "Python 3.8.7 64-bit"
  },
  "metadata": {
   "interpreter": {
    "hash": "1cb3c4095699f2a8cd6a12889e7edb42215ac8b2afd459e3e81282dc1470f9b2"
   }
  }
 },
 "nbformat": 4,
 "nbformat_minor": 2,
 "cells": [
  {
   "cell_type": "code",
   "execution_count": 10,
   "metadata": {},
   "outputs": [
    {
     "output_type": "execute_result",
     "data": {
      "text/plain": [
       "{'Lima': '40.22',\n",
       " 'Uva': '24.85',\n",
       " 'Ciruela': '44.85',\n",
       " 'Cereza': '11.27',\n",
       " 'Frutilla': '53.72',\n",
       " 'Caqui': '105.46',\n",
       " 'Tomate': '66.67',\n",
       " 'Berenjena': '28.47',\n",
       " 'Lechuga': '24.22',\n",
       " 'Durazno': '73.48',\n",
       " 'Remolacha': '20.75',\n",
       " 'Habas': '23.16',\n",
       " 'Frambuesa': '34.35',\n",
       " 'Naranja': '106.28',\n",
       " 'Bruselas': '15.72',\n",
       " 'Batata': '55.16',\n",
       " 'RÃºcula': '36.9',\n",
       " 'Radicheta': '26.11',\n",
       " 'Repollo': '49.16',\n",
       " 'Cebolla': '58.99',\n",
       " 'CebollÃ\\xadn': '57.1',\n",
       " 'Puerro': '27.58',\n",
       " 'Mandarina': '80.89',\n",
       " 'Ajo': '15.19',\n",
       " 'Rabanito': '51.94',\n",
       " 'Zapallo': '24.79',\n",
       " 'Espinaca': '52.61',\n",
       " 'Acelga': '29.26',\n",
       " 'Zanahoria': '49.74',\n",
       " 'Papa': '69.35'}"
      ]
     },
     "metadata": {},
     "execution_count": 10
    }
   ],
   "source": [
    "# fileparse.py\n",
    "import csv\n",
    "\n",
    "def parse_csv(nombre_archivo, select = None, types = None, has_headers = True):\n",
    "    '''\n",
    "    Parsea un archivo CSV en una lista de registros. Se puede seleccionar sólo un subconjunto de las columnas, \n",
    "    determinando el parámetro select, que debe ser una lista de nombres de las columnas a considerar.\n",
    "    '''\n",
    "    with open(nombre_archivo) as f:\n",
    "        filas = csv.reader(f)\n",
    "\n",
    "        # Lee los encabezados del archivo\n",
    "        if has_headers:    \n",
    "            encabezados = next(filas)\n",
    "    \n",
    "            # Si se indicó un selector de columnas, buscar los índices.\n",
    "            # Y en ese caso achicar el conjunto de encabezados para diccionario\n",
    "            if select:\n",
    "                indices = [encabezados.index(nombre_columna) for nombre_columna in select]\n",
    "                encabezados = select\n",
    "            else:\n",
    "                indices = []\n",
    "            \n",
    "            registros = []\n",
    "            for fila in filas:\n",
    "                if not fila:    # Saltear filas vacías\n",
    "                    continue\n",
    "                # Filtrar la fila si se especificaron columnas\n",
    "                if indices:\n",
    "                    fila = [fila[index] for index in indices]\n",
    "                    \n",
    "                if types:\n",
    "                    fila = [func(val) for func, val in zip(types, fila)]\n",
    "                    # for i in fila:\n",
    "                    #     print(type(i))\n",
    "                    \n",
    "                # Armar el diccionario\n",
    "                registro = dict(zip(encabezados, fila))\n",
    "                registros.append(registro)\n",
    "                \n",
    "        else:\n",
    "            registros = dict(fila for fila in filas)\n",
    "\n",
    "    return registros\n",
    "\n",
    "parse_csv('../Data/precios.csv', has_headers=False)"
   ]
  },
  {
   "cell_type": "code",
   "execution_count": null,
   "metadata": {},
   "outputs": [],
   "source": []
  }
 ]
}